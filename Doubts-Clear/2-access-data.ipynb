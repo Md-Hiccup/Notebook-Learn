{
 "cells": [
  {
   "cell_type": "code",
   "execution_count": 1,
   "metadata": {},
   "outputs": [],
   "source": [
    "import pandas as pd\n",
    "import numpy as np"
   ]
  },
  {
   "cell_type": "code",
   "execution_count": 5,
   "metadata": {},
   "outputs": [
    {
     "name": "stdout",
     "output_type": "stream",
     "text": [
      "158.4\n"
     ]
    }
   ],
   "source": [
    "ht = [176.2, 158.4, 167.6, 156.2, 161.4]\n",
    "st = ['s1', 's2', 's3', 's4', 's5']\n",
    "heights_A = pd.Series(ht, index=st)\n",
    "\n",
    "# print(heights_A[1])\n",
    "print(heights_A['s2'])"
   ]
  },
  {
   "cell_type": "code",
   "execution_count": 9,
   "metadata": {},
   "outputs": [
    {
     "name": "stdout",
     "output_type": "stream",
     "text": [
      "s2    158.4\n",
      "s3    167.6\n",
      "s4    156.2\n",
      "dtype: float64\n"
     ]
    }
   ],
   "source": [
    "print(heights_A[1:4])"
   ]
  },
  {
   "cell_type": "code",
   "execution_count": 15,
   "metadata": {},
   "outputs": [
    {
     "name": "stdout",
     "output_type": "stream",
     "text": [
      "<class 'pandas.core.series.Series'>\n"
     ]
    }
   ],
   "source": [
    "wt = [85.1, 90.2, 76.8, 80.4, 78.9]\n",
    "weights_A = pd.Series(wt, index=st)\n",
    "# print(weights_A.dtype)\n",
    "\n",
    "df_A = pd.DataFrame({\"Student_height\": heights_A, \"Student_weight\": weights_A})\n",
    "height = df_A['Student_height']\n",
    "\n",
    "# print(height.dtype)\n",
    "print(type(height))"
   ]
  },
  {
   "cell_type": "code",
   "execution_count": 21,
   "metadata": {},
   "outputs": [
    {
     "name": "stdout",
     "output_type": "stream",
     "text": [
      "    Student_height  Student_weight\n",
      "s1           176.2            85.1\n",
      "s2           158.4            90.2\n"
     ]
    }
   ],
   "source": [
    "df_s1s2 = df_A.loc[['s1', 's2']]\n",
    "print(df_s1s2)"
   ]
  },
  {
   "cell_type": "code",
   "execution_count": 23,
   "metadata": {},
   "outputs": [
    {
     "name": "stdout",
     "output_type": "stream",
     "text": [
      "    Student_height  Student_weight\n",
      "s2           158.4            90.2\n",
      "s5           161.4            78.9\n",
      "s1           176.2            85.1\n"
     ]
    }
   ],
   "source": [
    "df_s2s5s1 = df_A.loc[['s2', 's5', 's1']]\n",
    "print(df_s2s5s1)"
   ]
  },
  {
   "cell_type": "code",
   "execution_count": 37,
   "metadata": {},
   "outputs": [
    {
     "name": "stdout",
     "output_type": "stream",
     "text": [
      "    Student_height  Student_weight\n",
      "s1           176.2            85.1\n",
      "s4           156.2            80.4\n"
     ]
    }
   ],
   "source": [
    "df_s1s4 = df_A.iloc[[True, False, False, True, False]]\n",
    "print(df_s1s4)"
   ]
  }
 ],
 "metadata": {
  "kernelspec": {
   "display_name": "Python 3",
   "language": "python",
   "name": "python3"
  },
  "language_info": {
   "codemirror_mode": {
    "name": "ipython",
    "version": 3
   },
   "file_extension": ".py",
   "mimetype": "text/x-python",
   "name": "python",
   "nbconvert_exporter": "python",
   "pygments_lexer": "ipython3",
   "version": "3.6.5"
  }
 },
 "nbformat": 4,
 "nbformat_minor": 4
}
