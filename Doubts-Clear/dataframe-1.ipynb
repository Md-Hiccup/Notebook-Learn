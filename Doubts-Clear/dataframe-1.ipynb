{
 "cells": [
  {
   "cell_type": "code",
   "execution_count": 1,
   "metadata": {},
   "outputs": [],
   "source": [
    "import pandas as pd\n",
    "import numpy as np"
   ]
  },
  {
   "cell_type": "code",
   "execution_count": 3,
   "metadata": {},
   "outputs": [
    {
     "name": "stdout",
     "output_type": "stream",
     "text": [
      "     A   B\n",
      "K0  A0  B0\n",
      "K1  A1  B1\n",
      "K2  A2  B2\n",
      "K3  A3  B3\n",
      "     C   D\n",
      "K0  C0  D0\n",
      "K1  C1  D1\n",
      "K2  C2  D2\n",
      "K3  C3  D3\n"
     ]
    }
   ],
   "source": [
    "leftDataFrame = pd.DataFrame({  'A': ['A0', 'A1', 'A2', 'A3'],\n",
    "\n",
    "                                'B': ['B0', 'B1', 'B2', 'B3']},\n",
    "\n",
    "                                index =['K0', 'K1', 'K2', 'K3'])\n",
    "\n",
    "   \n",
    "\n",
    "rightDataFrame = pd.DataFrame({ 'C': ['C0', 'C1', 'C2', 'C3'],\n",
    "\n",
    "                                'D': ['D0', 'D1', 'D2', 'D3']},\n",
    "\n",
    "                                index = ['K0', 'K1', 'K2', 'K3'])  \n",
    "\n",
    "print(leftDataFrame)\n",
    "print(rightDataFrame)"
   ]
  },
  {
   "cell_type": "code",
   "execution_count": 6,
   "metadata": {},
   "outputs": [
    {
     "name": "stdout",
     "output_type": "stream",
     "text": [
      "     A   B   C   D\n",
      "K0  A0  B0  C0  D0\n",
      "K1  A1  B1  C1  D1\n",
      "K2  A2  B2  C2  D2\n",
      "K3  A3  B3  C3  D3\n"
     ]
    }
   ],
   "source": [
    "df = leftDataFrame.join(rightDataFrame)\n",
    "print(df)"
   ]
  }
 ],
 "metadata": {
  "kernelspec": {
   "display_name": "Python 3",
   "language": "python",
   "name": "python3"
  },
  "language_info": {
   "codemirror_mode": {
    "name": "ipython",
    "version": 3
   },
   "file_extension": ".py",
   "mimetype": "text/x-python",
   "name": "python",
   "nbconvert_exporter": "python",
   "pygments_lexer": "ipython3",
   "version": "3.6.5"
  }
 },
 "nbformat": 4,
 "nbformat_minor": 4
}
