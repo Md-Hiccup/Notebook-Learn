{
 "cells": [
  {
   "cell_type": "code",
   "execution_count": 1,
   "metadata": {},
   "outputs": [],
   "source": [
    "import numpy as np\n",
    "import pandas as pd"
   ]
  },
  {
   "cell_type": "code",
   "execution_count": 2,
   "metadata": {},
   "outputs": [
    {
     "name": "stdout",
     "output_type": "stream",
     "text": [
      "(5,)\n"
     ]
    }
   ],
   "source": [
    "ht = [176.2, 158.4, 167.6, 156.2, 161.4]\n",
    "st = ['s1', 's2', 's3', 's4', 's5']\n",
    "heights_A = pd.Series(ht)\n",
    "\n",
    "print(heights_A.shape)"
   ]
  },
  {
   "cell_type": "code",
   "execution_count": 3,
   "metadata": {},
   "outputs": [
    {
     "name": "stdout",
     "output_type": "stream",
     "text": [
      "float64\n"
     ]
    }
   ],
   "source": [
    "wt = [85.1, 90.2, 76.8, 80.4, 78.9]\n",
    "weights_A = pd.Series(wt)\n",
    "print(weights_A.dtype)"
   ]
  },
  {
   "cell_type": "code",
   "execution_count": 8,
   "metadata": {},
   "outputs": [
    {
     "name": "stdout",
     "output_type": "stream",
     "text": [
      "(5, 2)\n"
     ]
    }
   ],
   "source": [
    "df_A = pd.DataFrame({\"Student_height\": heights_A, \"Student_weight\": weights_A}, index=st)\n",
    "print(df_A.shape)"
   ]
  },
  {
   "cell_type": "code",
   "execution_count": 5,
   "metadata": {},
   "outputs": [
    {
     "name": "stdout",
     "output_type": "stream",
     "text": [
      "172.37417741633146\n"
     ]
    }
   ],
   "source": [
    "np.random.seed(100)\n",
    "heights_B = pd.Series(np.random.normal(170.0, 25.0, 5), index=st)\n",
    "# print(heights_B)\n",
    "np.random.seed(100)\n",
    "weights_B = pd.Series(np.random.normal(75.0, 12.0), index=st)\n",
    "# print(weights_B)\n",
    "print(heights_B.mean())"
   ]
  },
  {
   "cell_type": "code",
   "execution_count": 6,
   "metadata": {},
   "outputs": [
    {
     "name": "stdout",
     "output_type": "stream",
     "text": [
      "Index(['Student_height', 'Student_weight'], dtype='object')\n"
     ]
    }
   ],
   "source": [
    "df_B = pd.DataFrame({\"Student_height\": heights_B, \"Student_weight\": weights_B})\n",
    "print(df_B.columns)"
   ]
  },
  {
   "cell_type": "code",
   "execution_count": 9,
   "metadata": {},
   "outputs": [
    {
     "name": "stdout",
     "output_type": "stream",
     "text": [
      "(2, 5, 2)\n"
     ]
    }
   ],
   "source": [
    "p = pd.Panel({\"ClassA\": df_A, \"ClassB\": df_B})\n",
    "print(p.shape)"
   ]
  }
 ],
 "metadata": {
  "kernelspec": {
   "display_name": "Python 3",
   "language": "python",
   "name": "python3"
  },
  "language_info": {
   "codemirror_mode": {
    "name": "ipython",
    "version": 3
   },
   "file_extension": ".py",
   "mimetype": "text/x-python",
   "name": "python",
   "nbconvert_exporter": "python",
   "pygments_lexer": "ipython3",
   "version": "3.6.5"
  }
 },
 "nbformat": 4,
 "nbformat_minor": 4
}
